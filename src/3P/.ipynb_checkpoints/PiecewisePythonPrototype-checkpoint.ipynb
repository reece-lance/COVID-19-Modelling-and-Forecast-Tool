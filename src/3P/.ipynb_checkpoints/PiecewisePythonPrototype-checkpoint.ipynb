{
 "cells": [
  {
   "cell_type": "markdown",
   "metadata": {},
   "source": [
    "# Segmented piecewise linear regression\n",
    "\n",
    "from  [here](https://datascience.stackexchange.com/questions/8457/python-library-for-segmented-regression-a-k-a-piecewise-regression)"
   ]
  },
  {
   "cell_type": "code",
   "execution_count": 1,
   "metadata": {},
   "outputs": [],
   "source": [
    "import numpy as np\n",
    "from numpy.linalg import lstsq\n",
    "\n",
    "ramp = lambda u: np.maximum( u, 0 )\n",
    "step = lambda u: ( u > 0 ).astype(float)\n",
    "\n",
    "def SegmentedLinearReg( X, Y, breakpoints ):\n",
    "    nIterationMax = 10\n",
    "\n",
    "    breakpoints = np.sort( np.array(breakpoints) )\n",
    "\n",
    "    dt = np.min( np.diff(X) )\n",
    "    ones = np.ones_like(X)\n",
    "\n",
    "    for i in range( nIterationMax ):\n",
    "        # Linear regression:  solve A*p = Y\n",
    "        Rk = [ramp( X - xk ) for xk in breakpoints ]\n",
    "        Sk = [step( X - xk ) for xk in breakpoints ]\n",
    "        A = np.array([ ones, X ] + Rk + Sk )\n",
    "        p =  lstsq(A.transpose(), Y, rcond=None)[0] \n",
    "\n",
    "        # Parameters identification:\n",
    "        a, b = p[0:2]\n",
    "        ck = p[ 2:2+len(breakpoints) ]\n",
    "        dk = p[ 2+len(breakpoints): ]\n",
    "\n",
    "        # Estimation of the next break-points:\n",
    "        newBreakpoints = breakpoints - dk/ck \n",
    "\n",
    "        # Stop condition\n",
    "        if np.max(np.abs(newBreakpoints - breakpoints)) < dt/5:\n",
    "            break\n",
    "\n",
    "        breakpoints = newBreakpoints\n",
    "    else:\n",
    "        print( 'maximum iteration reached' )\n",
    "\n",
    "    # Compute the final segmented fit:\n",
    "    Xsolution = np.insert( np.append( breakpoints, max(X) ), 0, min(X) )\n",
    "    ones =  np.ones_like(Xsolution) \n",
    "    Rk = [ c*ramp( Xsolution - x0 ) for x0, c in zip(breakpoints, ck) ]\n",
    "\n",
    "    Ysolution = a*ones + b*Xsolution + np.sum( Rk, axis=0 )\n",
    "\n",
    "    return Xsolution, Ysolution"
   ]
  },
  {
   "cell_type": "markdown",
   "metadata": {},
   "source": [
    "# Get the data"
   ]
  },
  {
   "cell_type": "code",
   "execution_count": 2,
   "metadata": {},
   "outputs": [
    {
     "name": "stdout",
     "output_type": "stream",
     "text": [
      "C:\\Users\\Filip Vlcek\\source\\repos\\ce291_team02\\src\\3P\n",
      "C:\\Users\\Filip Vlcek\\source\\repos\\ce291_team02\\src\\3P\\Data\\by_date_2020-Nov-05.csv\n"
     ]
    }
   ],
   "source": [
    "import csv\n",
    "import os\n",
    "\n",
    "\n",
    "## from https://coronavirus.data.gov.uk/details/cases\n",
    "repo_path = os.path.abspath(\"C:\\\\Users\\\\Filip Vlcek\\\\source\\\\repos\\\\ce291_team02\\\\src\\\\3P\\\\\")\n",
    "csv_path = os.path.join(repo_path, \"Data\\\\by_date_2020-Nov-05.csv\")\n",
    "\n",
    "print(repo_path)\n",
    "print(csv_path)"
   ]
  },
  {
   "cell_type": "code",
   "execution_count": 3,
   "metadata": {},
   "outputs": [
    {
     "name": "stdout",
     "output_type": "stream",
     "text": [
      "280 rows loaded\n"
     ]
    },
    {
     "data": {
      "text/html": [
       "<div>\n",
       "<style scoped>\n",
       "    .dataframe tbody tr th:only-of-type {\n",
       "        vertical-align: middle;\n",
       "    }\n",
       "\n",
       "    .dataframe tbody tr th {\n",
       "        vertical-align: top;\n",
       "    }\n",
       "\n",
       "    .dataframe thead th {\n",
       "        text-align: right;\n",
       "    }\n",
       "</style>\n",
       "<table border=\"1\" class=\"dataframe\">\n",
       "  <thead>\n",
       "    <tr style=\"text-align: right;\">\n",
       "      <th></th>\n",
       "      <th>areaType</th>\n",
       "      <th>areaName</th>\n",
       "      <th>areaCode</th>\n",
       "      <th>date</th>\n",
       "      <th>newCasesBySpecimenDate</th>\n",
       "      <th>cumCasesBySpecimenDate</th>\n",
       "    </tr>\n",
       "  </thead>\n",
       "  <tbody>\n",
       "    <tr>\n",
       "      <th>0</th>\n",
       "      <td>overview</td>\n",
       "      <td>United Kingdom</td>\n",
       "      <td>K02000001</td>\n",
       "      <td>2020-11-04</td>\n",
       "      <td>1434</td>\n",
       "      <td>1123197</td>\n",
       "    </tr>\n",
       "    <tr>\n",
       "      <th>1</th>\n",
       "      <td>overview</td>\n",
       "      <td>United Kingdom</td>\n",
       "      <td>K02000001</td>\n",
       "      <td>2020-11-03</td>\n",
       "      <td>14512</td>\n",
       "      <td>1121763</td>\n",
       "    </tr>\n",
       "    <tr>\n",
       "      <th>2</th>\n",
       "      <td>overview</td>\n",
       "      <td>United Kingdom</td>\n",
       "      <td>K02000001</td>\n",
       "      <td>2020-11-02</td>\n",
       "      <td>29142</td>\n",
       "      <td>1107251</td>\n",
       "    </tr>\n",
       "    <tr>\n",
       "      <th>3</th>\n",
       "      <td>overview</td>\n",
       "      <td>United Kingdom</td>\n",
       "      <td>K02000001</td>\n",
       "      <td>2020-11-01</td>\n",
       "      <td>15419</td>\n",
       "      <td>1078109</td>\n",
       "    </tr>\n",
       "    <tr>\n",
       "      <th>4</th>\n",
       "      <td>overview</td>\n",
       "      <td>United Kingdom</td>\n",
       "      <td>K02000001</td>\n",
       "      <td>2020-10-31</td>\n",
       "      <td>16229</td>\n",
       "      <td>1062690</td>\n",
       "    </tr>\n",
       "    <tr>\n",
       "      <th>...</th>\n",
       "      <td>...</td>\n",
       "      <td>...</td>\n",
       "      <td>...</td>\n",
       "      <td>...</td>\n",
       "      <td>...</td>\n",
       "      <td>...</td>\n",
       "    </tr>\n",
       "    <tr>\n",
       "      <th>275</th>\n",
       "      <td>overview</td>\n",
       "      <td>United Kingdom</td>\n",
       "      <td>K02000001</td>\n",
       "      <td>2020-02-03</td>\n",
       "      <td>0</td>\n",
       "      <td>3</td>\n",
       "    </tr>\n",
       "    <tr>\n",
       "      <th>276</th>\n",
       "      <td>overview</td>\n",
       "      <td>United Kingdom</td>\n",
       "      <td>K02000001</td>\n",
       "      <td>2020-02-02</td>\n",
       "      <td>1</td>\n",
       "      <td>3</td>\n",
       "    </tr>\n",
       "    <tr>\n",
       "      <th>277</th>\n",
       "      <td>overview</td>\n",
       "      <td>United Kingdom</td>\n",
       "      <td>K02000001</td>\n",
       "      <td>2020-02-01</td>\n",
       "      <td>0</td>\n",
       "      <td>2</td>\n",
       "    </tr>\n",
       "    <tr>\n",
       "      <th>278</th>\n",
       "      <td>overview</td>\n",
       "      <td>United Kingdom</td>\n",
       "      <td>K02000001</td>\n",
       "      <td>2020-01-31</td>\n",
       "      <td>0</td>\n",
       "      <td>2</td>\n",
       "    </tr>\n",
       "    <tr>\n",
       "      <th>279</th>\n",
       "      <td>overview</td>\n",
       "      <td>United Kingdom</td>\n",
       "      <td>K02000001</td>\n",
       "      <td>2020-01-30</td>\n",
       "      <td>2</td>\n",
       "      <td>2</td>\n",
       "    </tr>\n",
       "  </tbody>\n",
       "</table>\n",
       "<p>280 rows × 6 columns</p>\n",
       "</div>"
      ],
      "text/plain": [
       "     areaType        areaName   areaCode        date  newCasesBySpecimenDate  \\\n",
       "0    overview  United Kingdom  K02000001  2020-11-04                    1434   \n",
       "1    overview  United Kingdom  K02000001  2020-11-03                   14512   \n",
       "2    overview  United Kingdom  K02000001  2020-11-02                   29142   \n",
       "3    overview  United Kingdom  K02000001  2020-11-01                   15419   \n",
       "4    overview  United Kingdom  K02000001  2020-10-31                   16229   \n",
       "..        ...             ...        ...         ...                     ...   \n",
       "275  overview  United Kingdom  K02000001  2020-02-03                       0   \n",
       "276  overview  United Kingdom  K02000001  2020-02-02                       1   \n",
       "277  overview  United Kingdom  K02000001  2020-02-01                       0   \n",
       "278  overview  United Kingdom  K02000001  2020-01-31                       0   \n",
       "279  overview  United Kingdom  K02000001  2020-01-30                       2   \n",
       "\n",
       "     cumCasesBySpecimenDate  \n",
       "0                   1123197  \n",
       "1                   1121763  \n",
       "2                   1107251  \n",
       "3                   1078109  \n",
       "4                   1062690  \n",
       "..                      ...  \n",
       "275                       3  \n",
       "276                       3  \n",
       "277                       2  \n",
       "278                       2  \n",
       "279                       2  \n",
       "\n",
       "[280 rows x 6 columns]"
      ]
     },
     "execution_count": 3,
     "metadata": {},
     "output_type": "execute_result"
    }
   ],
   "source": [
    "import pandas as pd\n",
    "import numpy as np\n",
    "\n",
    "df  = pd.read_csv(csv_path)\n",
    "\n",
    "if df.empty:\n",
    "    print('DataFrame is empty!')\n",
    "else:\n",
    "    print(df.shape[0], \"rows loaded\")\n",
    "\n",
    "df"
   ]
  },
  {
   "cell_type": "code",
   "execution_count": 4,
   "metadata": {},
   "outputs": [],
   "source": [
    "# We willskip the most recent day as the cases are still rising\n",
    "\n",
    "df = df[1:].copy()"
   ]
  },
  {
   "cell_type": "code",
   "execution_count": 5,
   "metadata": {},
   "outputs": [
    {
     "data": {
      "text/html": [
       "<div>\n",
       "<style scoped>\n",
       "    .dataframe tbody tr th:only-of-type {\n",
       "        vertical-align: middle;\n",
       "    }\n",
       "\n",
       "    .dataframe tbody tr th {\n",
       "        vertical-align: top;\n",
       "    }\n",
       "\n",
       "    .dataframe thead th {\n",
       "        text-align: right;\n",
       "    }\n",
       "</style>\n",
       "<table border=\"1\" class=\"dataframe\">\n",
       "  <thead>\n",
       "    <tr style=\"text-align: right;\">\n",
       "      <th></th>\n",
       "      <th>areaType</th>\n",
       "      <th>areaName</th>\n",
       "      <th>areaCode</th>\n",
       "      <th>date</th>\n",
       "      <th>newCasesBySpecimenDate</th>\n",
       "      <th>cumCasesBySpecimenDate</th>\n",
       "      <th>timestamps</th>\n",
       "    </tr>\n",
       "  </thead>\n",
       "  <tbody>\n",
       "    <tr>\n",
       "      <th>1</th>\n",
       "      <td>overview</td>\n",
       "      <td>United Kingdom</td>\n",
       "      <td>K02000001</td>\n",
       "      <td>2020-11-03</td>\n",
       "      <td>14512</td>\n",
       "      <td>1121763</td>\n",
       "      <td>1.604362e+09</td>\n",
       "    </tr>\n",
       "    <tr>\n",
       "      <th>2</th>\n",
       "      <td>overview</td>\n",
       "      <td>United Kingdom</td>\n",
       "      <td>K02000001</td>\n",
       "      <td>2020-11-02</td>\n",
       "      <td>29142</td>\n",
       "      <td>1107251</td>\n",
       "      <td>1.604275e+09</td>\n",
       "    </tr>\n",
       "    <tr>\n",
       "      <th>3</th>\n",
       "      <td>overview</td>\n",
       "      <td>United Kingdom</td>\n",
       "      <td>K02000001</td>\n",
       "      <td>2020-11-01</td>\n",
       "      <td>15419</td>\n",
       "      <td>1078109</td>\n",
       "      <td>1.604189e+09</td>\n",
       "    </tr>\n",
       "    <tr>\n",
       "      <th>4</th>\n",
       "      <td>overview</td>\n",
       "      <td>United Kingdom</td>\n",
       "      <td>K02000001</td>\n",
       "      <td>2020-10-31</td>\n",
       "      <td>16229</td>\n",
       "      <td>1062690</td>\n",
       "      <td>1.604102e+09</td>\n",
       "    </tr>\n",
       "    <tr>\n",
       "      <th>5</th>\n",
       "      <td>overview</td>\n",
       "      <td>United Kingdom</td>\n",
       "      <td>K02000001</td>\n",
       "      <td>2020-10-30</td>\n",
       "      <td>22551</td>\n",
       "      <td>1046461</td>\n",
       "      <td>1.604016e+09</td>\n",
       "    </tr>\n",
       "    <tr>\n",
       "      <th>...</th>\n",
       "      <td>...</td>\n",
       "      <td>...</td>\n",
       "      <td>...</td>\n",
       "      <td>...</td>\n",
       "      <td>...</td>\n",
       "      <td>...</td>\n",
       "      <td>...</td>\n",
       "    </tr>\n",
       "    <tr>\n",
       "      <th>275</th>\n",
       "      <td>overview</td>\n",
       "      <td>United Kingdom</td>\n",
       "      <td>K02000001</td>\n",
       "      <td>2020-02-03</td>\n",
       "      <td>0</td>\n",
       "      <td>3</td>\n",
       "      <td>1.580688e+09</td>\n",
       "    </tr>\n",
       "    <tr>\n",
       "      <th>276</th>\n",
       "      <td>overview</td>\n",
       "      <td>United Kingdom</td>\n",
       "      <td>K02000001</td>\n",
       "      <td>2020-02-02</td>\n",
       "      <td>1</td>\n",
       "      <td>3</td>\n",
       "      <td>1.580602e+09</td>\n",
       "    </tr>\n",
       "    <tr>\n",
       "      <th>277</th>\n",
       "      <td>overview</td>\n",
       "      <td>United Kingdom</td>\n",
       "      <td>K02000001</td>\n",
       "      <td>2020-02-01</td>\n",
       "      <td>0</td>\n",
       "      <td>2</td>\n",
       "      <td>1.580515e+09</td>\n",
       "    </tr>\n",
       "    <tr>\n",
       "      <th>278</th>\n",
       "      <td>overview</td>\n",
       "      <td>United Kingdom</td>\n",
       "      <td>K02000001</td>\n",
       "      <td>2020-01-31</td>\n",
       "      <td>0</td>\n",
       "      <td>2</td>\n",
       "      <td>1.580429e+09</td>\n",
       "    </tr>\n",
       "    <tr>\n",
       "      <th>279</th>\n",
       "      <td>overview</td>\n",
       "      <td>United Kingdom</td>\n",
       "      <td>K02000001</td>\n",
       "      <td>2020-01-30</td>\n",
       "      <td>2</td>\n",
       "      <td>2</td>\n",
       "      <td>1.580342e+09</td>\n",
       "    </tr>\n",
       "  </tbody>\n",
       "</table>\n",
       "<p>279 rows × 7 columns</p>\n",
       "</div>"
      ],
      "text/plain": [
       "     areaType        areaName   areaCode        date  newCasesBySpecimenDate  \\\n",
       "1    overview  United Kingdom  K02000001  2020-11-03                   14512   \n",
       "2    overview  United Kingdom  K02000001  2020-11-02                   29142   \n",
       "3    overview  United Kingdom  K02000001  2020-11-01                   15419   \n",
       "4    overview  United Kingdom  K02000001  2020-10-31                   16229   \n",
       "5    overview  United Kingdom  K02000001  2020-10-30                   22551   \n",
       "..        ...             ...        ...         ...                     ...   \n",
       "275  overview  United Kingdom  K02000001  2020-02-03                       0   \n",
       "276  overview  United Kingdom  K02000001  2020-02-02                       1   \n",
       "277  overview  United Kingdom  K02000001  2020-02-01                       0   \n",
       "278  overview  United Kingdom  K02000001  2020-01-31                       0   \n",
       "279  overview  United Kingdom  K02000001  2020-01-30                       2   \n",
       "\n",
       "     cumCasesBySpecimenDate    timestamps  \n",
       "1                   1121763  1.604362e+09  \n",
       "2                   1107251  1.604275e+09  \n",
       "3                   1078109  1.604189e+09  \n",
       "4                   1062690  1.604102e+09  \n",
       "5                   1046461  1.604016e+09  \n",
       "..                      ...           ...  \n",
       "275                       3  1.580688e+09  \n",
       "276                       3  1.580602e+09  \n",
       "277                       2  1.580515e+09  \n",
       "278                       2  1.580429e+09  \n",
       "279                       2  1.580342e+09  \n",
       "\n",
       "[279 rows x 7 columns]"
      ]
     },
     "execution_count": 5,
     "metadata": {},
     "output_type": "execute_result"
    }
   ],
   "source": [
    "# Converts the datetimes to a number\n",
    "\n",
    "import time\n",
    "import datetime\n",
    "\n",
    "dateArray = df[\"date\"].to_numpy()\n",
    "\n",
    "timestamps = []\n",
    "\n",
    "for date in dateArray:\n",
    "    timestamps.append(time.mktime(datetime.datetime.strptime(date, \"%Y-%m-%d\").timetuple()))\n",
    "\n",
    "df[\"timestamps\"] = timestamps\n",
    "df"
   ]
  },
  {
   "cell_type": "code",
   "execution_count": 6,
   "metadata": {},
   "outputs": [
    {
     "name": "stdout",
     "output_type": "stream",
     "text": [
      "min 1580342400.0\n",
      "max 1604361600.0\n",
      "mean 1592349290.3225806\n"
     ]
    }
   ],
   "source": [
    "def get_metrics(df, attribute):\n",
    "    min = df[\"timestamps\"].min()\n",
    "    max = df[\"timestamps\"].max()\n",
    "    mean = df[\"timestamps\"].mean()\n",
    "\n",
    "    print(\"min {0}\\nmax {1}\\nmean {2}\".format(min, max, mean))\n",
    "    \n",
    "get_metrics(df, \"timestamps\")"
   ]
  },
  {
   "cell_type": "code",
   "execution_count": 7,
   "metadata": {},
   "outputs": [
    {
     "name": "stdout",
     "output_type": "stream",
     "text": [
      "1.0 0.0\n"
     ]
    }
   ],
   "source": [
    "def scale_df_att(df):\n",
    "    max = df.max()\n",
    "    min = df.min()\n",
    "\n",
    "    return (df - min)/(max - min)\n",
    "\n",
    "    \n",
    "scaled_timestamps = scale_df_att(df[\"timestamps\"])\n",
    "\n",
    "print(scaled_timestamps.max(), scaled_timestamps.min())\n"
   ]
  },
  {
   "cell_type": "code",
   "execution_count": 8,
   "metadata": {},
   "outputs": [
    {
     "data": {
      "image/png": "[encoded data removed]",
      "text/plain": [
       "<Figure size 432x288 with 1 Axes>"
      ]
     },
     "metadata": {
      "needs_background": "light"
     },
     "output_type": "display_data"
    }
   ],
   "source": [
    "import matplotlib.pyplot as plt\n",
    "fig, ax = plt.subplots(1, 1)\n",
    "\n",
    "X, Y = scaled_timestamps, df[\"newCasesBySpecimenDate\"]\n",
    "ax.plot(X, Y, \".\")\n",
    "ax.set_title(\"Cases per day\");\n"
   ]
  },
  {
   "cell_type": "code",
   "execution_count": 13,
   "metadata": {},
   "outputs": [
    {
     "name": "stdout",
     "output_type": "stream",
     "text": [
      "maximum iteration reached\n"
     ]
    },
    {
     "data": {
      "image/png": "[encoded data removed]",
      "text/plain": [
       "<Figure size 800x640 with 1 Axes>"
      ]
     },
     "metadata": {},
     "output_type": "display_data"
    }
   ],
   "source": [
    "import matplotlib.pyplot as plt\n",
    "from matplotlib.pyplot import figure\n",
    "\n",
    "figure(num=None, figsize=(10,8), dpi=80, facecolor='w', edgecolor='k')\n",
    "\n",
    "X, Y = scaled_timestamps, df[\"newCasesBySpecimenDate\"]\n",
    "plt.plot( X, Y, 'ok' );\n",
    "\n",
    "initialBreakpoints = [0.18, 0.28, 0.5, 0.8]\n",
    "plt.plot( *SegmentedLinearReg( X, Y, initialBreakpoints ), '-r' );\n",
    "plt.xlabel('X'); plt.ylabel('Y');"
   ]
  },
  {
   "cell_type": "code",
   "execution_count": 10,
   "metadata": {},
   "outputs": [
    {
     "data": {
      "image/png": "[encoded data removed]",
      "text/plain": [
       "<Figure size 432x288 with 1 Axes>"
      ]
     },
     "metadata": {
      "needs_background": "light"
     },
     "output_type": "display_data"
    }
   ],
   "source": [
    "import matplotlib.pyplot as plt\n",
    "fig, ax = plt.subplots(1, 1)\n",
    "\n",
    "X, Y = df[\"timestamps\"], df[\"newCasesBySpecimenDate\"]\n",
    "ax.plot(X, Y, \".\")\n",
    "ax.set_title(\"Cases per day\");\n"
   ]
  },
  {
   "cell_type": "code",
   "execution_count": 24,
   "metadata": {},
   "outputs": [
    {
     "name": "stdout",
     "output_type": "stream",
     "text": [
      "maximum iteration reached\n"
     ]
    },
    {
     "data": {
      "image/png": "[encoded data removed]",
      "text/plain": [
       "<Figure size 800x640 with 1 Axes>"
      ]
     },
     "metadata": {},
     "output_type": "display_data"
    }
   ],
   "source": [
    "import matplotlib.pyplot as plt\n",
    "from matplotlib.pyplot import figure\n",
    "\n",
    "figure(num=None, figsize=(10,8), dpi=80, facecolor='w', edgecolor='k')\n",
    "\n",
    "X, Y = df[\"timestamps\"], df[\"newCasesBySpecimenDate\"]\n",
    "plt.plot( X, Y, 'ok' );\n",
    "\n",
    "initialBreakpoints = [1580342400 + 4323456, 1580342400 + 6725376, 1580342400 + 12009600, 1580342400 + 19215360]\n",
    "plt.plot( *SegmentedLinearReg( X, Y, initialBreakpoints ), '-r' );\n",
    "plt.xlabel('linux timestamp'); plt.ylabel('daily cases');"
   ]
  },
  {
   "cell_type": "code",
   "execution_count": 8,
   "metadata": {},
   "outputs": [
    {
     "data": {
      "text/plain": [
       "6     1.603930e+09\n",
       "7     1.603843e+09\n",
       "8     1.603757e+09\n",
       "9     1.603670e+09\n",
       "10    1.603580e+09\n",
       "11    1.603494e+09\n",
       "Name: timestamps, dtype: float64"
      ]
     },
     "execution_count": 8,
     "metadata": {},
     "output_type": "execute_result"
    }
   ],
   "source": [
    "df[\"timestamps\"][]"
   ]
  },
  {
   "cell_type": "code",
   "execution_count": null,
   "metadata": {},
   "outputs": [],
   "source": []
  }
 ],
 "metadata": {
  "kernelspec": {
   "display_name": "Python 3",
   "language": "python",
   "name": "python3"
  },
  "language_info": {
   "codemirror_mode": {
    "name": "ipython",
    "version": 3
   },
   "file_extension": ".py",
   "mimetype": "text/x-python",
   "name": "python",
   "nbconvert_exporter": "python",
   "pygments_lexer": "ipython3",
   "version": "3.8.3"
  }
 },
 "nbformat": 4,
 "nbformat_minor": 4
}
